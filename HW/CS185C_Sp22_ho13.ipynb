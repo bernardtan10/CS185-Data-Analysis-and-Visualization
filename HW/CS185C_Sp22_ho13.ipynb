{
  "cells": [
    {
      "cell_type": "markdown",
      "metadata": {
        "id": "8H6hX4CGEy9c"
      },
      "source": [
        "## WEB SCRAPING\n",
        "\n",
        "<img src=\"https://static.javatpoint.com/python/images/web-scraping-using-python.png\" width=800>\n",
        "\n",
        "\n",
        "### A Guide to Ethical Web Scraping\n",
        "https://www.empiricaldata.org/dataladyblog/a-guide-to-ethical-web-scraping\n",
        "\n",
        "\n",
        "### HTML Guide ###\n",
        "Since we will be scraping from the web, you need to know HTML (HyperText Markup Language). [Introduction and tutorials of HTML](https://developer.mozilla.org/en-US/docs/Web/HTML)\n",
        "\n",
        "### Use the appropriate web browser\n",
        "Use Chrome or Firefox to inspect the HTML elements in the web page"
      ]
    },
    {
      "cell_type": "markdown",
      "metadata": {
        "id": "XFTThDBuEy9g"
      },
      "source": [
        "## Q1: Read the [Guide to Ethical Web Scraping](https://www.empiricaldata.org/dataladyblog/a-guide-to-ethical-web-scraping) article and write a short paragraph to summarize the key messages about ethical web scraping."
      ]
    },
    {
      "cell_type": "markdown",
      "metadata": {
        "id": "A13hgs01Ey9g"
      },
      "source": [
        "Answer here:\n",
        "We can use data scraping in a variety of ways to benefit everyone. The issue is that the ethical ramifications of, instance, scraping people's health records, might be unclear at times. In scraping a data, there are some aspects that should be noticed. First, the API way is often the best way. Meaning that instead of scraping, use the API if one exists. Then, respects the robots.txt. Also, read the terms and condition, be gentle, and identify yourself. Remember to always ask for permission as well because we are going to use the data that does not belong to us. We should also value the content that we keep and treat the data with respect. We must also give credit to the owner to bring quality traffic back to their website. Lastly, practice for ethical web scraping. The demand for data sources grows over time, and many websites lack APIs that allow developers to access the data they require. This only implies that web scraping will become more common over time, and it is critical for developers to understand how to do it correctly."
      ]
    },
    {
      "cell_type": "markdown",
      "metadata": {
        "id": "XGK0-L_7Ey9h"
      },
      "source": [
        "## Q2: Scape data from this [website](https://www.sjsu.edu/people/wendy.lee/docs/CS122/table.html), create a dataframe to store the data, and write the data to a csv file.\n",
        "- This website contains a table that lists the books, the authors, the quantity, and the prices. \n",
        "- The dataframe should contain three columns: `Title`, `Author`, and `Unit_Price`.\n",
        "- The `Unit_Price` column should store the price for one book.\n",
        "- Save the data in the dataframe in a csv file, `books.csv`. "
      ]
    },
    {
      "cell_type": "code",
      "execution_count": 82,
      "metadata": {
        "id": "RC1ViatAEy9h",
        "colab": {
          "base_uri": "https://localhost:8080/"
        },
        "outputId": "8998ed56-07e3-4d5c-d96f-4d5f1b990d48"
      },
      "outputs": [
        {
          "output_type": "stream",
          "name": "stdout",
          "text": [
            "{'User-Agent': 'Mozilla/5.0 (Windows NT 6.3; WOW64; rv:33.0) Gecko/20100101 Firefox/33.0'}\n"
          ]
        }
      ],
      "source": [
        "# Your code here . . .\n",
        "from bs4 import BeautifulSoup as soup\n",
        "import requests\n",
        "import pandas as pd\n",
        "import random\n",
        "\n",
        "url=\"https://www.sjsu.edu/people/wendy.lee/docs/CS122/table.html\"\n",
        "\n",
        "def get_UA():\n",
        "    '''This list is from https://www.jcchouinard.com/random-user-agent-with-python-and-beautifulsoup/'''\n",
        "    uastrings = [\"Mozilla/5.0 (Windows NT 6.1; WOW64) AppleWebKit/537.36 (KHTML, like Gecko) Chrome/38.0.2125.111 Safari/537.36\",\\\n",
        "                \"Mozilla/5.0 (Windows NT 6.1; WOW64) AppleWebKit/537.36 (KHTML, like Gecko) Chrome/28.0.1500.72 Safari/537.36\",\\\n",
        "                \"Mozilla/5.0 (Macintosh; Intel Mac OS X 10_10) AppleWebKit/600.1.25 (KHTML, like Gecko) Version/8.0 Safari/600.1.25\",\\\n",
        "                \"Mozilla/5.0 (Windows NT 6.1; WOW64; rv:33.0) Gecko/20100101 Firefox/33.0\",\\\n",
        "                \"Mozilla/5.0 (Windows NT 6.3; WOW64) AppleWebKit/537.36 (KHTML, like Gecko) Chrome/38.0.2125.111 Safari/537.36\",\\\n",
        "                \"Mozilla/5.0 (Macintosh; Intel Mac OS X 10_10_0) AppleWebKit/537.36 (KHTML, like Gecko) Chrome/38.0.2125.111 Safari/537.36\",\\\n",
        "                \"Mozilla/5.0 (Macintosh; Intel Mac OS X 10_9_5) AppleWebKit/600.1.17 (KHTML, like Gecko) Version/7.1 Safari/537.85.10\",\\\n",
        "                \"Mozilla/5.0 (Windows NT 6.1; WOW64; Trident/7.0; rv:11.0) like Gecko\",\\\n",
        "                \"Mozilla/5.0 (Windows NT 6.3; WOW64; rv:33.0) Gecko/20100101 Firefox/33.0\",\\\n",
        "                \"Mozilla/5.0 (Windows NT 6.1; WOW64) AppleWebKit/537.36 (KHTML, like Gecko) Chrome/38.0.2125.104 Safari/537.36\"\\\n",
        "                ]\n",
        "    return random.choice(uastrings)\n",
        "\n",
        "mockheaders = {'User-Agent': get_UA()}\n",
        "print(mockheaders)\n",
        "r = requests.get(url, headers=mockheaders)\n",
        "\n",
        "# Input to BeautifulSoup\n",
        "html_soup = soup(r.text, 'html.parser')"
      ]
    },
    {
      "cell_type": "markdown",
      "source": [
        ""
      ],
      "metadata": {
        "id": "kvfltYODZQHk"
      }
    },
    {
      "cell_type": "code",
      "source": [
        "\n",
        "containers = html_soup.findAll(\"tr\")\n",
        "\n",
        "print(len(containers))\n",
        "\n",
        "print(containers[4])\n"
      ],
      "metadata": {
        "colab": {
          "base_uri": "https://localhost:8080/"
        },
        "id": "p3g5DQNvbR9C",
        "outputId": "5852f555-fc03-4313-fcbb-f5d5bd8a9740"
      },
      "execution_count": 84,
      "outputs": [
        {
          "output_type": "stream",
          "name": "stdout",
          "text": [
            "8\n",
            "<tr>\n",
            "<td>\n",
            "<strong class=\"book-title\">Little Fires Everywhere</strong>\n",
            "<span class=\"text-offset\">by Celeste Ng</span>\n",
            "</td>\n",
            "<td class=\"item-stock\">In Stock</td>\n",
            "<td class=\"item-qty\">1</td>\n",
            "<td class=\"item-price\">$10.20</td>\n",
            "</tr>\n"
          ]
        }
      ]
    },
    {
      "cell_type": "code",
      "source": [
        "\n",
        "i=0\n",
        "for container in containers:\n",
        "    try:\n",
        "        title = container.findAll(\"strong\", {\"class\":\"book-title\"})[0].text\n",
        "        author = container.findAll(\"span\", {\"class\":\"text-offset\"})[0].text\n",
        "        unit_price = container.findAll(\"td\", {\"class\":\"item-price\"})[0].text\n",
        "\n",
        "\n",
        "        print('Title:',title)\n",
        "        print('Author:',author)\n",
        "        print('Price:',unit_price)\n",
        "        print(\"-------------\" )\n",
        "        i+=1\n",
        "    except:\n",
        "        #print(\"Can't parse this container\")\n",
        "        pass"
      ],
      "metadata": {
        "colab": {
          "base_uri": "https://localhost:8080/"
        },
        "id": "MXRSEO4zaL-l",
        "outputId": "b55b1505-ce4b-4a07-8d1d-f18a863f15af"
      },
      "execution_count": 85,
      "outputs": [
        {
          "output_type": "stream",
          "name": "stdout",
          "text": [
            "Title: Where the Crawdads Sing\n",
            "Author: by Delia Owens\n",
            "Price: $11.00\n",
            "-------------\n",
            "Title: Midnight Sun\n",
            "Author: by Stephenie Meyer\n",
            "Price: $26.64$13.32 × 2\n",
            "-------------\n",
            "Title: Introducing HTML5\n",
            "Author: by Bruce Lawson & Remy Sharp\n",
            "Price: $22.23\n",
            "-------------\n",
            "Title: Little Fires Everywhere\n",
            "Author: by Celeste Ng\n",
            "Price: $10.20\n",
            "-------------\n"
          ]
        }
      ]
    },
    {
      "cell_type": "code",
      "source": [
        "title_list = []\n",
        "author_list = []\n",
        "unit_price_list = []\n",
        "\n",
        "for container in containers:\n",
        "    try:\n",
        "        title = container.findAll(\"strong\", {\"class\":\"book-title\"})[0].text\n",
        "        author = container.findAll(\"span\", {\"class\":\"text-offset\"})[0].text.replace(\"by\", \"\")\n",
        "        unit_price = container.findAll(\"td\", {\"class\":\"item-price\"})[0].text.replace(\"$26.64\", \"\").replace(\"×\", \"\").replace(\" 2\", \"\")\n",
        "\n",
        "\n",
        "        title_list.append(title)\n",
        "        author_list.append(author)\n",
        "        unit_price_list.append(unit_price)\n",
        "    except:\n",
        "        #print(\"Can't parse this container\")\n",
        "        continue\n",
        "\n",
        "data = {'Title':title_list,'Author':author_list,'Price':unit_price_list}\n",
        "df = pd.DataFrame(data)\n",
        "\n",
        "# Write to csv file\n",
        "f = open(\"books.csv\", 'w')\n",
        "df.to_csv(f)\n",
        "f.close()\n",
        "\n",
        "df"
      ],
      "metadata": {
        "colab": {
          "base_uri": "https://localhost:8080/",
          "height": 175
        },
        "id": "7q__j6uIctNQ",
        "outputId": "7355076d-9c03-4ad2-b611-3d9604af79ce"
      },
      "execution_count": 87,
      "outputs": [
        {
          "output_type": "execute_result",
          "data": {
            "text/plain": [
              "                     Title                      Author    Price\n",
              "0  Where the Crawdads Sing                 Delia Owens   $11.00\n",
              "1             Midnight Sun             Stephenie Meyer  $13.32 \n",
              "2        Introducing HTML5   Bruce Lawson & Remy Sharp   $22.23\n",
              "3  Little Fires Everywhere                  Celeste Ng   $10.20"
            ],
            "text/html": [
              "\n",
              "  <div id=\"df-6c0d7796-a369-46e7-901c-c5637d01fc41\">\n",
              "    <div class=\"colab-df-container\">\n",
              "      <div>\n",
              "<style scoped>\n",
              "    .dataframe tbody tr th:only-of-type {\n",
              "        vertical-align: middle;\n",
              "    }\n",
              "\n",
              "    .dataframe tbody tr th {\n",
              "        vertical-align: top;\n",
              "    }\n",
              "\n",
              "    .dataframe thead th {\n",
              "        text-align: right;\n",
              "    }\n",
              "</style>\n",
              "<table border=\"1\" class=\"dataframe\">\n",
              "  <thead>\n",
              "    <tr style=\"text-align: right;\">\n",
              "      <th></th>\n",
              "      <th>Title</th>\n",
              "      <th>Author</th>\n",
              "      <th>Price</th>\n",
              "    </tr>\n",
              "  </thead>\n",
              "  <tbody>\n",
              "    <tr>\n",
              "      <th>0</th>\n",
              "      <td>Where the Crawdads Sing</td>\n",
              "      <td>Delia Owens</td>\n",
              "      <td>$11.00</td>\n",
              "    </tr>\n",
              "    <tr>\n",
              "      <th>1</th>\n",
              "      <td>Midnight Sun</td>\n",
              "      <td>Stephenie Meyer</td>\n",
              "      <td>$13.32</td>\n",
              "    </tr>\n",
              "    <tr>\n",
              "      <th>2</th>\n",
              "      <td>Introducing HTML5</td>\n",
              "      <td>Bruce Lawson &amp; Remy Sharp</td>\n",
              "      <td>$22.23</td>\n",
              "    </tr>\n",
              "    <tr>\n",
              "      <th>3</th>\n",
              "      <td>Little Fires Everywhere</td>\n",
              "      <td>Celeste Ng</td>\n",
              "      <td>$10.20</td>\n",
              "    </tr>\n",
              "  </tbody>\n",
              "</table>\n",
              "</div>\n",
              "      <button class=\"colab-df-convert\" onclick=\"convertToInteractive('df-6c0d7796-a369-46e7-901c-c5637d01fc41')\"\n",
              "              title=\"Convert this dataframe to an interactive table.\"\n",
              "              style=\"display:none;\">\n",
              "        \n",
              "  <svg xmlns=\"http://www.w3.org/2000/svg\" height=\"24px\"viewBox=\"0 0 24 24\"\n",
              "       width=\"24px\">\n",
              "    <path d=\"M0 0h24v24H0V0z\" fill=\"none\"/>\n",
              "    <path d=\"M18.56 5.44l.94 2.06.94-2.06 2.06-.94-2.06-.94-.94-2.06-.94 2.06-2.06.94zm-11 1L8.5 8.5l.94-2.06 2.06-.94-2.06-.94L8.5 2.5l-.94 2.06-2.06.94zm10 10l.94 2.06.94-2.06 2.06-.94-2.06-.94-.94-2.06-.94 2.06-2.06.94z\"/><path d=\"M17.41 7.96l-1.37-1.37c-.4-.4-.92-.59-1.43-.59-.52 0-1.04.2-1.43.59L10.3 9.45l-7.72 7.72c-.78.78-.78 2.05 0 2.83L4 21.41c.39.39.9.59 1.41.59.51 0 1.02-.2 1.41-.59l7.78-7.78 2.81-2.81c.8-.78.8-2.07 0-2.86zM5.41 20L4 18.59l7.72-7.72 1.47 1.35L5.41 20z\"/>\n",
              "  </svg>\n",
              "      </button>\n",
              "      \n",
              "  <style>\n",
              "    .colab-df-container {\n",
              "      display:flex;\n",
              "      flex-wrap:wrap;\n",
              "      gap: 12px;\n",
              "    }\n",
              "\n",
              "    .colab-df-convert {\n",
              "      background-color: #E8F0FE;\n",
              "      border: none;\n",
              "      border-radius: 50%;\n",
              "      cursor: pointer;\n",
              "      display: none;\n",
              "      fill: #1967D2;\n",
              "      height: 32px;\n",
              "      padding: 0 0 0 0;\n",
              "      width: 32px;\n",
              "    }\n",
              "\n",
              "    .colab-df-convert:hover {\n",
              "      background-color: #E2EBFA;\n",
              "      box-shadow: 0px 1px 2px rgba(60, 64, 67, 0.3), 0px 1px 3px 1px rgba(60, 64, 67, 0.15);\n",
              "      fill: #174EA6;\n",
              "    }\n",
              "\n",
              "    [theme=dark] .colab-df-convert {\n",
              "      background-color: #3B4455;\n",
              "      fill: #D2E3FC;\n",
              "    }\n",
              "\n",
              "    [theme=dark] .colab-df-convert:hover {\n",
              "      background-color: #434B5C;\n",
              "      box-shadow: 0px 1px 3px 1px rgba(0, 0, 0, 0.15);\n",
              "      filter: drop-shadow(0px 1px 2px rgba(0, 0, 0, 0.3));\n",
              "      fill: #FFFFFF;\n",
              "    }\n",
              "  </style>\n",
              "\n",
              "      <script>\n",
              "        const buttonEl =\n",
              "          document.querySelector('#df-6c0d7796-a369-46e7-901c-c5637d01fc41 button.colab-df-convert');\n",
              "        buttonEl.style.display =\n",
              "          google.colab.kernel.accessAllowed ? 'block' : 'none';\n",
              "\n",
              "        async function convertToInteractive(key) {\n",
              "          const element = document.querySelector('#df-6c0d7796-a369-46e7-901c-c5637d01fc41');\n",
              "          const dataTable =\n",
              "            await google.colab.kernel.invokeFunction('convertToInteractive',\n",
              "                                                     [key], {});\n",
              "          if (!dataTable) return;\n",
              "\n",
              "          const docLinkHtml = 'Like what you see? Visit the ' +\n",
              "            '<a target=\"_blank\" href=https://colab.research.google.com/notebooks/data_table.ipynb>data table notebook</a>'\n",
              "            + ' to learn more about interactive tables.';\n",
              "          element.innerHTML = '';\n",
              "          dataTable['output_type'] = 'display_data';\n",
              "          await google.colab.output.renderOutput(dataTable, element);\n",
              "          const docLink = document.createElement('div');\n",
              "          docLink.innerHTML = docLinkHtml;\n",
              "          element.appendChild(docLink);\n",
              "        }\n",
              "      </script>\n",
              "    </div>\n",
              "  </div>\n",
              "  "
            ]
          },
          "metadata": {},
          "execution_count": 87
        }
      ]
    }
  ],
  "metadata": {
    "kernelspec": {
      "display_name": "Python 3",
      "language": "python",
      "name": "python3"
    },
    "language_info": {
      "codemirror_mode": {
        "name": "ipython",
        "version": 3
      },
      "file_extension": ".py",
      "mimetype": "text/x-python",
      "name": "python",
      "nbconvert_exporter": "python",
      "pygments_lexer": "ipython3",
      "version": "3.7.6"
    },
    "colab": {
      "name": "CS185C_Sp22_ho13.ipynb",
      "provenance": [],
      "collapsed_sections": []
    }
  },
  "nbformat": 4,
  "nbformat_minor": 0
}