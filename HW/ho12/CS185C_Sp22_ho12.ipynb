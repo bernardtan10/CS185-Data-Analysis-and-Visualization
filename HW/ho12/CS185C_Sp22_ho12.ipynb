{
  "cells": [
    {
      "cell_type": "markdown",
      "metadata": {
        "id": "ZgULxg_0AuZL"
      },
      "source": [
        "### Use Lucidchart to create an Entity Relationship Diagram (ERD) for the following tables representing a customer order tracking system:\n",
        "\n",
        "Tables and fields:\n",
        "1. product: \n",
        "    - product_id: INTEGER (Primary key)\n",
        "    - name: TEXT not null\n",
        "    - price: REAL\n",
        "\n",
        "\n",
        "2. customer:\n",
        "    - customer_id: INTEGER (Primary key)\n",
        "    - name: TEXT not null\n",
        "    - email: TEXT not null\n",
        "\n",
        "\n",
        "3. purchase_order:\n",
        "    - order_id: INTEGER (Primary key)\n",
        "    - customer_id: INTEGER (Foreign key)\n",
        "    - date: TEXT not null (\"YYYY-MM-DD\")\n",
        "\n",
        "\n",
        "4. order_item:\n",
        "    - order_id: INTEGER (Foreign key)\n",
        "    - product_id: INTEGER (Foreign key)\n",
        "    - quantity: INTEGER\n",
        "    \n",
        "\n",
        "\n",
        "Export the ERD as PDF and submit to Canvas - Hands-on 12 assignment."
      ]
    },
    {
      "cell_type": "markdown",
      "metadata": {
        "id": "PZJtgMx7AuZO"
      },
      "source": [
        "### Create SQLite tables and load data\n",
        "1. From Canvas, download the csv files for the data for the four tables (product, customer, order_item, purchase_order). \n",
        "2. In this notebook, create the database and save it in a file called `store.db`, and create the four tables as described above.\n",
        "3. Load the data in the csv files into the corresponding table.\n",
        "4. Commit so that the data loaded to the tables to officially written to the tables.\n",
        "5. Execute a query SELECT * from each table to make sure the data are properly loaded.\n",
        "6. Execute a query using SELECT statement that queries with JOIN tables to find the purchase date, the products and quantities that a particular customer has purchased."
      ]
    },
    {
      "cell_type": "code",
      "execution_count": 4,
      "metadata": {
        "id": "w4xnppG8AuZP",
        "outputId": "1801854a-b192-47ba-ac17-08bf18ef50cd",
        "colab": {
          "base_uri": "https://localhost:8080/"
        }
      },
      "outputs": [
        {
          "output_type": "execute_result",
          "data": {
            "text/plain": [
              "<sqlite3.Cursor at 0x7f4540cf82d0>"
            ]
          },
          "metadata": {},
          "execution_count": 4
        }
      ],
      "source": [
        "# 2. Create the database and save it in a file called store.db, and create the four tables as described above.\n",
        "# Your code here . . .\n",
        "import sqlite3\n",
        "from pathlib import Path\n",
        "\n",
        "conn = sqlite3.connect('store.db')\n",
        "c = conn.cursor()\n",
        "\n",
        "SQL_CreateTable = '''CREATE TABLE product (\n",
        "  product_id INTEGER,\n",
        "  name TEXT NOT NULL,\n",
        "  price REAL,\n",
        "  PRIMARY KEY (product_id))'''\n",
        "c.execute(SQL_CreateTable)\n",
        "\n",
        "SQL_CreateTable = '''CREATE TABLE customer (\n",
        "  customer_id INTEGER,\n",
        "  name TEXT NOT NULL,\n",
        "  email TEXT NOT NULL,\n",
        "  PRIMARY KEY (customer_id))'''\n",
        "c.execute(SQL_CreateTable)\n",
        "\n",
        "SQL_CreateTable = '''CREATE TABLE purchase_order (\n",
        "  order_id INTEGER,\n",
        "  customer_id INTEGER,\n",
        "  date TEXT NOT NULL,\n",
        "  PRIMARY KEY (order_id),\n",
        "  FOREIGN KEY (customer_id)\n",
        "      REFERENCES customer (customer_id)\n",
        "          ON DELETE CASCADE\n",
        "          ON UPDATE NO ACTION)'''  \n",
        "c.execute(SQL_CreateTable)\n",
        "\n",
        "SQL_CreateTable = '''CREATE TABLE order_item (\n",
        "  order_id INTEGER,\n",
        "  product_id INTEGER,\n",
        "  quantity INTEGER,\n",
        "  FOREIGN KEY (order_id)\n",
        "      REFERENCES purchase_order (order_id)\n",
        "          ON DELETE CASCADE\n",
        "          ON UPDATE NO ACTION,\n",
        "  FOREIGN KEY (product_id)\n",
        "      REFERENCES product (product_id)\n",
        "          ON DELETE CASCADE\n",
        "          ON UPDATE NO ACTION)'''\n",
        "c.execute(SQL_CreateTable)\n"
      ]
    },
    {
      "cell_type": "code",
      "source": [
        "# 3. Load the data in the csv files into the corresponding table.\n",
        "# Your code here . . .\n",
        "import pandas as pd\n",
        "\n",
        "product = pd.read_csv('product.csv')\n",
        "product\n",
        "product.to_sql('product', conn, if_exists='append', index=False)\n",
        "\n",
        "customer = pd.read_csv('customer.csv')\n",
        "customer\n",
        "customer.to_sql('customer', conn, if_exists='append', index=False)\n",
        "\n",
        "purchase_order = pd.read_csv('purchase_order.csv')\n",
        "purchase_order\n",
        "purchase_order.to_sql('purchase_order', conn, if_exists='append', index=False)\n",
        "\n",
        "order_item = pd.read_csv('order_item.csv')\n",
        "order_item\n",
        "order_item.to_sql('order_item', conn, if_exists='append', index=False)\n"
      ],
      "metadata": {
        "id": "WPRhy-dSBY-c"
      },
      "execution_count": 6,
      "outputs": []
    },
    {
      "cell_type": "code",
      "source": [
        "# 4. Commit so that the data loaded to the tables to officially written to the tables.\n",
        "# Your code here . . .\n",
        "conn.commit()"
      ],
      "metadata": {
        "id": "VIBaGXPABbVO"
      },
      "execution_count": 7,
      "outputs": []
    },
    {
      "cell_type": "code",
      "source": [
        "# 5. Execute a query SELECT * from each table to make sure the data are properly loaded.\n",
        "# Your code here . . .\n",
        "c.execute(\"SELECT * FROM product\")\n",
        "results = c.fetchall() \n",
        "print(results)\n",
        "\n",
        "c.execute(\"SELECT * FROM customer\")\n",
        "results = c.fetchall() \n",
        "print(results)\n",
        "\n",
        "c.execute(\"SELECT * FROM purchase_order\")\n",
        "results = c.fetchall() \n",
        "print(results)\n",
        "\n",
        "c.execute(\"SELECT * FROM order_item\")\n",
        "results = c.fetchall() \n",
        "print(results)"
      ],
      "metadata": {
        "id": "wPHFswfYBgan",
        "outputId": "0485845d-36ef-41f9-e224-f68cbd3788d7",
        "colab": {
          "base_uri": "https://localhost:8080/"
        }
      },
      "execution_count": 8,
      "outputs": [
        {
          "output_type": "stream",
          "name": "stdout",
          "text": [
            "[(0, 'bicycle', 400.0), (1, 'helmet', 45.0), (2, 'gloves', 23.0), (3, 'chain', 48.0)]\n",
            "[(0, 'Wendy Lee', 'wlee@bike.com'), (1, 'Jason Brown', 'jb@speed.com'), (2, 'Harry Potter', 'hp@hogwarts.edu'), (3, 'Godric Gryffindor', 'gg@hogwards.edu')]\n",
            "[(0, 0, '2020-10-19'), (1, 0, '2020-10-20'), (2, 1, '2020-10-20')]\n",
            "[(0, 0, 1), (0, 1, 1), (1, 2, 2), (1, 3, 1)]\n"
          ]
        }
      ]
    },
    {
      "cell_type": "code",
      "source": [
        "# 6. Execute a query using SELECT statement that queries with JOIN tables to find the purchase date, \n",
        "#    the products and quantities that a particular customer has purchased.\n",
        "# Your code here . . .\n",
        "SQL_JointQuery = \"\"\"SELECT purchase_order.order_id, purchase_order.date, \n",
        "                order_item.quantity FROM purchase_order as P\n",
        "                JOIN purchase_order using (order_id)\n",
        "                JOIN order_item using (order_id)\n",
        "                WHERE order_item.order_id='1' \n",
        "                \"\"\"\n",
        "c.execute(SQL_JointQuery)\n",
        "joint_results = c.fetchall() \n",
        "print(joint_results)"
      ],
      "metadata": {
        "id": "armxZeMPBmSe",
        "outputId": "796ddf4e-c85f-4c40-837c-596c63baeb05",
        "colab": {
          "base_uri": "https://localhost:8080/"
        }
      },
      "execution_count": 11,
      "outputs": [
        {
          "output_type": "stream",
          "name": "stdout",
          "text": [
            "[(1, '2020-10-20', 2), (1, '2020-10-20', 1)]\n"
          ]
        }
      ]
    }
  ],
  "metadata": {
    "kernelspec": {
      "display_name": "Python 3",
      "language": "python",
      "name": "python3"
    },
    "language_info": {
      "codemirror_mode": {
        "name": "ipython",
        "version": 3
      },
      "file_extension": ".py",
      "mimetype": "text/x-python",
      "name": "python",
      "nbconvert_exporter": "python",
      "pygments_lexer": "ipython3",
      "version": "3.7.6"
    },
    "colab": {
      "name": "CS185C_Sp22_ho12.ipynb",
      "provenance": [],
      "collapsed_sections": []
    }
  },
  "nbformat": 4,
  "nbformat_minor": 0
}