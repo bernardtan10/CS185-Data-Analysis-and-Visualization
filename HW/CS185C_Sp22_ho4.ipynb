{
  "cells": [
    {
      "cell_type": "markdown",
      "metadata": {
        "id": "KaXHUmuvM4cH"
      },
      "source": [
        "## Hands-on 4\n",
        "Let's continue to use the dataset from the wine magazine used in lecture to practice data transformation, grouping, and sorting.\n",
        "\n",
        "<img src=\"https://secure.static.meredith.com/crt/store/covers/magazines/nmo/9826_l.jpg\">"
      ]
    },
    {
      "cell_type": "code",
      "execution_count": 46,
      "metadata": {
        "id": "Iv968XwaM4cI",
        "outputId": "5728d1fd-28ec-47cd-cba0-e410f3f4d75c",
        "colab": {
          "base_uri": "https://localhost:8080/",
          "height": 337
        }
      },
      "outputs": [
        {
          "output_type": "execute_result",
          "data": {
            "text/html": [
              "\n",
              "  <div id=\"df-3058417b-4d06-4ba1-9a18-2689aa661097\">\n",
              "    <div class=\"colab-df-container\">\n",
              "      <div>\n",
              "<style scoped>\n",
              "    .dataframe tbody tr th:only-of-type {\n",
              "        vertical-align: middle;\n",
              "    }\n",
              "\n",
              "    .dataframe tbody tr th {\n",
              "        vertical-align: top;\n",
              "    }\n",
              "\n",
              "    .dataframe thead th {\n",
              "        text-align: right;\n",
              "    }\n",
              "</style>\n",
              "<table border=\"1\" class=\"dataframe\">\n",
              "  <thead>\n",
              "    <tr style=\"text-align: right;\">\n",
              "      <th></th>\n",
              "      <th>country</th>\n",
              "      <th>description</th>\n",
              "      <th>designation</th>\n",
              "      <th>points</th>\n",
              "      <th>price</th>\n",
              "      <th>province</th>\n",
              "      <th>region_1</th>\n",
              "      <th>region_2</th>\n",
              "      <th>taster_name</th>\n",
              "      <th>taster_twitter_handle</th>\n",
              "      <th>title</th>\n",
              "      <th>variety</th>\n",
              "      <th>winery</th>\n",
              "    </tr>\n",
              "  </thead>\n",
              "  <tbody>\n",
              "    <tr>\n",
              "      <th>0</th>\n",
              "      <td>Italy</td>\n",
              "      <td>Aromas include tropical fruit, broom, brimston...</td>\n",
              "      <td>Vulkà Bianco</td>\n",
              "      <td>87</td>\n",
              "      <td>NaN</td>\n",
              "      <td>Sicily &amp; Sardinia</td>\n",
              "      <td>Etna</td>\n",
              "      <td>NaN</td>\n",
              "      <td>Kerin O’Keefe</td>\n",
              "      <td>@kerinokeefe</td>\n",
              "      <td>Nicosia 2013 Vulkà Bianco  (Etna)</td>\n",
              "      <td>White Blend</td>\n",
              "      <td>Nicosia</td>\n",
              "    </tr>\n",
              "    <tr>\n",
              "      <th>1</th>\n",
              "      <td>Portugal</td>\n",
              "      <td>This is ripe and fruity, a wine that is smooth...</td>\n",
              "      <td>Avidagos</td>\n",
              "      <td>87</td>\n",
              "      <td>15.0</td>\n",
              "      <td>Douro</td>\n",
              "      <td>NaN</td>\n",
              "      <td>NaN</td>\n",
              "      <td>Roger Voss</td>\n",
              "      <td>@vossroger</td>\n",
              "      <td>Quinta dos Avidagos 2011 Avidagos Red (Douro)</td>\n",
              "      <td>Portuguese Red</td>\n",
              "      <td>Quinta dos Avidagos</td>\n",
              "    </tr>\n",
              "    <tr>\n",
              "      <th>2</th>\n",
              "      <td>US</td>\n",
              "      <td>Tart and snappy, the flavors of lime flesh and...</td>\n",
              "      <td>NaN</td>\n",
              "      <td>87</td>\n",
              "      <td>14.0</td>\n",
              "      <td>Oregon</td>\n",
              "      <td>Willamette Valley</td>\n",
              "      <td>Willamette Valley</td>\n",
              "      <td>Paul Gregutt</td>\n",
              "      <td>@paulgwine</td>\n",
              "      <td>Rainstorm 2013 Pinot Gris (Willamette Valley)</td>\n",
              "      <td>Pinot Gris</td>\n",
              "      <td>Rainstorm</td>\n",
              "    </tr>\n",
              "    <tr>\n",
              "      <th>3</th>\n",
              "      <td>US</td>\n",
              "      <td>Pineapple rind, lemon pith and orange blossom ...</td>\n",
              "      <td>Reserve Late Harvest</td>\n",
              "      <td>87</td>\n",
              "      <td>13.0</td>\n",
              "      <td>Michigan</td>\n",
              "      <td>Lake Michigan Shore</td>\n",
              "      <td>NaN</td>\n",
              "      <td>Alexander Peartree</td>\n",
              "      <td>NaN</td>\n",
              "      <td>St. Julian 2013 Reserve Late Harvest Riesling ...</td>\n",
              "      <td>Riesling</td>\n",
              "      <td>St. Julian</td>\n",
              "    </tr>\n",
              "    <tr>\n",
              "      <th>4</th>\n",
              "      <td>US</td>\n",
              "      <td>Much like the regular bottling from 2012, this...</td>\n",
              "      <td>Vintner's Reserve Wild Child Block</td>\n",
              "      <td>87</td>\n",
              "      <td>65.0</td>\n",
              "      <td>Oregon</td>\n",
              "      <td>Willamette Valley</td>\n",
              "      <td>Willamette Valley</td>\n",
              "      <td>Paul Gregutt</td>\n",
              "      <td>@paulgwine</td>\n",
              "      <td>Sweet Cheeks 2012 Vintner's Reserve Wild Child...</td>\n",
              "      <td>Pinot Noir</td>\n",
              "      <td>Sweet Cheeks</td>\n",
              "    </tr>\n",
              "  </tbody>\n",
              "</table>\n",
              "</div>\n",
              "      <button class=\"colab-df-convert\" onclick=\"convertToInteractive('df-3058417b-4d06-4ba1-9a18-2689aa661097')\"\n",
              "              title=\"Convert this dataframe to an interactive table.\"\n",
              "              style=\"display:none;\">\n",
              "        \n",
              "  <svg xmlns=\"http://www.w3.org/2000/svg\" height=\"24px\"viewBox=\"0 0 24 24\"\n",
              "       width=\"24px\">\n",
              "    <path d=\"M0 0h24v24H0V0z\" fill=\"none\"/>\n",
              "    <path d=\"M18.56 5.44l.94 2.06.94-2.06 2.06-.94-2.06-.94-.94-2.06-.94 2.06-2.06.94zm-11 1L8.5 8.5l.94-2.06 2.06-.94-2.06-.94L8.5 2.5l-.94 2.06-2.06.94zm10 10l.94 2.06.94-2.06 2.06-.94-2.06-.94-.94-2.06-.94 2.06-2.06.94z\"/><path d=\"M17.41 7.96l-1.37-1.37c-.4-.4-.92-.59-1.43-.59-.52 0-1.04.2-1.43.59L10.3 9.45l-7.72 7.72c-.78.78-.78 2.05 0 2.83L4 21.41c.39.39.9.59 1.41.59.51 0 1.02-.2 1.41-.59l7.78-7.78 2.81-2.81c.8-.78.8-2.07 0-2.86zM5.41 20L4 18.59l7.72-7.72 1.47 1.35L5.41 20z\"/>\n",
              "  </svg>\n",
              "      </button>\n",
              "      \n",
              "  <style>\n",
              "    .colab-df-container {\n",
              "      display:flex;\n",
              "      flex-wrap:wrap;\n",
              "      gap: 12px;\n",
              "    }\n",
              "\n",
              "    .colab-df-convert {\n",
              "      background-color: #E8F0FE;\n",
              "      border: none;\n",
              "      border-radius: 50%;\n",
              "      cursor: pointer;\n",
              "      display: none;\n",
              "      fill: #1967D2;\n",
              "      height: 32px;\n",
              "      padding: 0 0 0 0;\n",
              "      width: 32px;\n",
              "    }\n",
              "\n",
              "    .colab-df-convert:hover {\n",
              "      background-color: #E2EBFA;\n",
              "      box-shadow: 0px 1px 2px rgba(60, 64, 67, 0.3), 0px 1px 3px 1px rgba(60, 64, 67, 0.15);\n",
              "      fill: #174EA6;\n",
              "    }\n",
              "\n",
              "    [theme=dark] .colab-df-convert {\n",
              "      background-color: #3B4455;\n",
              "      fill: #D2E3FC;\n",
              "    }\n",
              "\n",
              "    [theme=dark] .colab-df-convert:hover {\n",
              "      background-color: #434B5C;\n",
              "      box-shadow: 0px 1px 3px 1px rgba(0, 0, 0, 0.15);\n",
              "      filter: drop-shadow(0px 1px 2px rgba(0, 0, 0, 0.3));\n",
              "      fill: #FFFFFF;\n",
              "    }\n",
              "  </style>\n",
              "\n",
              "      <script>\n",
              "        const buttonEl =\n",
              "          document.querySelector('#df-3058417b-4d06-4ba1-9a18-2689aa661097 button.colab-df-convert');\n",
              "        buttonEl.style.display =\n",
              "          google.colab.kernel.accessAllowed ? 'block' : 'none';\n",
              "\n",
              "        async function convertToInteractive(key) {\n",
              "          const element = document.querySelector('#df-3058417b-4d06-4ba1-9a18-2689aa661097');\n",
              "          const dataTable =\n",
              "            await google.colab.kernel.invokeFunction('convertToInteractive',\n",
              "                                                     [key], {});\n",
              "          if (!dataTable) return;\n",
              "\n",
              "          const docLinkHtml = 'Like what you see? Visit the ' +\n",
              "            '<a target=\"_blank\" href=https://colab.research.google.com/notebooks/data_table.ipynb>data table notebook</a>'\n",
              "            + ' to learn more about interactive tables.';\n",
              "          element.innerHTML = '';\n",
              "          dataTable['output_type'] = 'display_data';\n",
              "          await google.colab.output.renderOutput(dataTable, element);\n",
              "          const docLink = document.createElement('div');\n",
              "          docLink.innerHTML = docLinkHtml;\n",
              "          element.appendChild(docLink);\n",
              "        }\n",
              "      </script>\n",
              "    </div>\n",
              "  </div>\n",
              "  "
            ],
            "text/plain": [
              "    country  ...               winery\n",
              "0     Italy  ...              Nicosia\n",
              "1  Portugal  ...  Quinta dos Avidagos\n",
              "2        US  ...            Rainstorm\n",
              "3        US  ...           St. Julian\n",
              "4        US  ...         Sweet Cheeks\n",
              "\n",
              "[5 rows x 13 columns]"
            ]
          },
          "metadata": {},
          "execution_count": 46
        }
      ],
      "source": [
        "csvurl=\"https://gist.githubusercontent.com/clairehq/\" + \\\n",
        "        \"79acab35be50eaf1c383948ed3fd1129/raw/407a02139ae1e134992b90b4b2b8c329b3d73a6a/winemag-data-130k-v2.csv\"\n",
        "import pandas as pd\n",
        "wine = pd.read_csv(csvurl)\n",
        "wine.drop(wine.columns[0], axis=\"columns\", inplace=True)\n",
        "wine.head()"
      ]
    },
    {
      "cell_type": "markdown",
      "metadata": {
        "id": "B5icW1ooM4cK"
      },
      "source": [
        "#### Question 1: ####  \n",
        "What is the mean of the points column?"
      ]
    },
    {
      "cell_type": "code",
      "source": [
        "# Your code here . . .\n",
        "wine.points.mean()"
      ],
      "metadata": {
        "id": "zfLRcH-QNZk8",
        "outputId": "1f68a18b-f4f8-4e92-eaf9-674da2e97651",
        "colab": {
          "base_uri": "https://localhost:8080/"
        }
      },
      "execution_count": 39,
      "outputs": [
        {
          "output_type": "execute_result",
          "data": {
            "text/plain": [
              "88.43403716087269"
            ]
          },
          "metadata": {},
          "execution_count": 39
        }
      ]
    },
    {
      "cell_type": "markdown",
      "metadata": {
        "id": "xgUNI-hfM4cK"
      },
      "source": [
        "#### Question 2: ####  \n",
        "How many countries are present in this dataset? (Only count each country once)"
      ]
    },
    {
      "cell_type": "code",
      "source": [
        "# Your code here . . .\n",
        "wine.country.nunique()"
      ],
      "metadata": {
        "id": "3VtO-ngdNau1",
        "outputId": "66c913f4-7840-460e-8a68-6f45e5687b08",
        "colab": {
          "base_uri": "https://localhost:8080/"
        }
      },
      "execution_count": 40,
      "outputs": [
        {
          "output_type": "execute_result",
          "data": {
            "text/plain": [
              "41"
            ]
          },
          "metadata": {},
          "execution_count": 40
        }
      ]
    },
    {
      "cell_type": "markdown",
      "metadata": {
        "id": "o0LDb6ahM4cL"
      },
      "source": [
        "#### Question 3: ####\n",
        "How many times does each country appeared in this dataset? Show each country and the corresponding count (show counts in ascending order)"
      ]
    },
    {
      "cell_type": "code",
      "source": [
        "# Your code here . . .\n",
        "wine.country.value_counts(ascending=True)\n",
        "#wine.groupby('country').value_counts().sort_values(ascending=False)"
      ],
      "metadata": {
        "id": "tLZ7v1RYNdDm",
        "outputId": "79ea8388-76c5-44b1-9307-8cfd3ffb69ea",
        "colab": {
          "base_uri": "https://localhost:8080/"
        }
      },
      "execution_count": 33,
      "outputs": [
        {
          "output_type": "execute_result",
          "data": {
            "text/plain": [
              "Bosnia and Herzegovina        1\n",
              "Armenia                       1\n",
              "Slovakia                      1\n",
              "Switzerland                   4\n",
              "Luxembourg                    4\n",
              "India                         4\n",
              "Ukraine                       5\n",
              "Macedonia                     6\n",
              "Czech Republic                6\n",
              "Cyprus                        6\n",
              "Serbia                        7\n",
              "Peru                          8\n",
              "Morocco                      11\n",
              "Lebanon                      20\n",
              "Moldova                      30\n",
              "Brazil                       31\n",
              "Mexico                       31\n",
              "England                      36\n",
              "Georgia                      37\n",
              "Slovenia                     39\n",
              "Turkey                       43\n",
              "Croatia                      44\n",
              "Uruguay                      61\n",
              "Hungary                      61\n",
              "Romania                      67\n",
              "Bulgaria                     68\n",
              "Canada                      108\n",
              "Greece                      242\n",
              "Israel                      259\n",
              "New Zealand                 733\n",
              "South Africa                737\n",
              "Germany                    1051\n",
              "Australia                  1177\n",
              "Austria                    1635\n",
              "Argentina                  1907\n",
              "Chile                      2258\n",
              "Portugal                   2963\n",
              "Spain                      3409\n",
              "Italy                     10005\n",
              "France                    11174\n",
              "US                        27177\n",
              "Name: country, dtype: int64"
            ]
          },
          "metadata": {},
          "execution_count": 33
        }
      ]
    },
    {
      "cell_type": "markdown",
      "metadata": {
        "id": "OpkB90HkM4cL"
      },
      "source": [
        "#### Question 4: ####\n",
        "Create a variable `adjusted_price` containing the adjusted price which is the price subtracted by the average price. *This is called **\"centering\" transformation** - a method commonly used in the preprocessing step before applying various machine learning algorithms.*"
      ]
    },
    {
      "cell_type": "code",
      "source": [
        "# Your code here . . .\n",
        "#wine_price_mean = wine.price.mean()\n",
        "#djusted_price = wine.price.map(lambda: p - wine_price_mean)\n",
        "adjusted_price = wine.price - wine.price.mean()\n",
        "adjusted_price"
      ],
      "metadata": {
        "id": "PiNrXHhMNeTD",
        "outputId": "a5f6e911-be00-4c72-cc98-29781466caf8",
        "colab": {
          "base_uri": "https://localhost:8080/"
        }
      },
      "execution_count": 45,
      "outputs": [
        {
          "output_type": "execute_result",
          "data": {
            "text/plain": [
              "0              NaN\n",
              "1       -20.232932\n",
              "2       -21.232932\n",
              "3       -22.232932\n",
              "4        29.767068\n",
              "           ...    \n",
              "65494     9.767068\n",
              "65495   -13.232932\n",
              "65496   -15.232932\n",
              "65497    -4.232932\n",
              "65498   -25.232932\n",
              "Name: price, Length: 65499, dtype: float64"
            ]
          },
          "metadata": {},
          "execution_count": 45
        }
      ]
    },
    {
      "cell_type": "markdown",
      "metadata": {
        "id": "AkOtVGS6M4cL"
      },
      "source": [
        "#### Question 5: ####\n",
        "What is the title of the wine that has the highest points-to-price ratio in the dataset?"
      ]
    },
    {
      "cell_type": "code",
      "source": [
        "# Your code here . . .\n",
        "wine.groupby('title').points.max()"
      ],
      "metadata": {
        "id": "M493qpX7NfjD",
        "outputId": "e3884370-b07f-4132-b4e6-ef6899d46591",
        "colab": {
          "base_uri": "https://localhost:8080/"
        }
      },
      "execution_count": 48,
      "outputs": [
        {
          "output_type": "execute_result",
          "data": {
            "text/plain": [
              "title\n",
              "1+1=3 2008 Rosé Cabernet Sauvignon (Penedès)                                     82\n",
              "1+1=3 NV Brut Sparkling (Cava)                                                   87\n",
              "1+1=3 NV Cygnus Brut Nature Reserva Made With Organic Grapes Sparkling (Cava)    89\n",
              "1+1=3 NV Rosé Sparkling (Cava)                                                   86\n",
              "10 Knots 2006 Chardonnay (Santa Barbara County)                                  85\n",
              "                                                                                 ..\n",
              "àMaurice 2013 Sparrow Estate Viognier Viognier (Walla Walla Valley (WA))         91\n",
              "àMaurice 2014 Boushey Vineyard Marsanne-Viognier (Yakima Valley)                 89\n",
              "àMaurice 2014 Boushey Vineyard Syrah (Yakima Valley)                             89\n",
              "àMaurice 2014 Fred Estate Syrah (Walla Walla Valley (WA))                        88\n",
              "Štoka 2009 Izbrani Teran (Kras)                                                  88\n",
              "Name: points, Length: 62466, dtype: int64"
            ]
          },
          "metadata": {},
          "execution_count": 48
        }
      ]
    },
    {
      "cell_type": "markdown",
      "metadata": {
        "id": "Zqt78i-eM4cL"
      },
      "source": [
        "#### Question 6: ####\n",
        "Create a series `flavor_counts` that contains two values: the number of wines that has the word \"tart\" in the `description` column and the number of wines that has the word \"berries\" in the `description` column. The index of the Series should be \"Tart\" and \"Berries\" for the corresponding values."
      ]
    },
    {
      "cell_type": "code",
      "execution_count": 106,
      "metadata": {
        "id": "uzqdreKSM4cM",
        "outputId": "ca8ae799-5e34-4c71-fdb9-ebf74cc6df8c",
        "colab": {
          "base_uri": "https://localhost:8080/"
        }
      },
      "outputs": [
        {
          "output_type": "execute_result",
          "data": {
            "text/plain": [
              "Tart       4424\n",
              "Berries    3512\n",
              "dtype: int64"
            ]
          },
          "metadata": {},
          "execution_count": 106
        }
      ],
      "source": [
        "# Look for the word \"tart\", not case sensitive, not a substring of another word. \n",
        "# Same applies to the word \"berries\" \n",
        "# Your code here . . .\n",
        "#euk[(euk.Kingdom == 'Fungi') \n",
        "#flavor_counts = wine[(wine.description == 'tart') & (wine.description =='berries')]\n",
        "#wine.groupby(['country', 'province']).apply(lambda df: df.loc[df.points.idxmax()])\n",
        "#flavor_counts = wine[wine['description'].str.contains(\"tart\", \"berries\")]\n",
        "#flavor_counts.unique()\n",
        "#flavor_counts = wine[(wine.description=='tart')]\n",
        "#f = wine.description.str.contains(\"tart\", \"berries\")\n",
        "#f.value_counts().reset_index()\n",
        "#flavor_counts.agg(['count']).reset_index()\n",
        "flavor_counts = pd.Series([wine.description.map(lambda x:'tart' in x.lower()).sum(), wine.description.map(lambda x:'berries' in x.lower()).sum()], index=['Tart', 'Berries'])\n",
        "flavor_counts"
      ]
    },
    {
      "cell_type": "markdown",
      "metadata": {
        "id": "wSVdmOw9M4cM"
      },
      "source": [
        "#### Question 7: ####\n",
        "Let's convert the points into simple star ratings. A score of 90 or higher counts as 3 stars, a score of at least 80 but less than 90 is 2 stars. Any other score is 1 star.\n",
        "\n",
        "Also, any wines from France should automatically get 3 stars, regardless of points.\n",
        "\n",
        "Add this new column `star_ratings` to the dataframe with the number of stars for each wine in the dataset. "
      ]
    },
    {
      "cell_type": "code",
      "execution_count": 68,
      "metadata": {
        "id": "yOucjOJZM4cN",
        "outputId": "f2b1b022-a3ac-450a-bbd7-0cc1247cbfd4",
        "colab": {
          "base_uri": "https://localhost:8080/",
          "height": 798
        }
      },
      "outputs": [
        {
          "output_type": "execute_result",
          "data": {
            "text/html": [
              "\n",
              "  <div id=\"df-9f6d3e52-4509-48f5-a77a-b9b7576f00c4\">\n",
              "    <div class=\"colab-df-container\">\n",
              "      <div>\n",
              "<style scoped>\n",
              "    .dataframe tbody tr th:only-of-type {\n",
              "        vertical-align: middle;\n",
              "    }\n",
              "\n",
              "    .dataframe tbody tr th {\n",
              "        vertical-align: top;\n",
              "    }\n",
              "\n",
              "    .dataframe thead th {\n",
              "        text-align: right;\n",
              "    }\n",
              "</style>\n",
              "<table border=\"1\" class=\"dataframe\">\n",
              "  <thead>\n",
              "    <tr style=\"text-align: right;\">\n",
              "      <th></th>\n",
              "      <th>country</th>\n",
              "      <th>description</th>\n",
              "      <th>designation</th>\n",
              "      <th>points</th>\n",
              "      <th>price</th>\n",
              "      <th>province</th>\n",
              "      <th>region_1</th>\n",
              "      <th>region_2</th>\n",
              "      <th>taster_name</th>\n",
              "      <th>taster_twitter_handle</th>\n",
              "      <th>title</th>\n",
              "      <th>variety</th>\n",
              "      <th>winery</th>\n",
              "      <th>star_ratings</th>\n",
              "    </tr>\n",
              "  </thead>\n",
              "  <tbody>\n",
              "    <tr>\n",
              "      <th>0</th>\n",
              "      <td>Italy</td>\n",
              "      <td>Aromas include tropical fruit, broom, brimston...</td>\n",
              "      <td>Vulkà Bianco</td>\n",
              "      <td>87</td>\n",
              "      <td>NaN</td>\n",
              "      <td>Sicily &amp; Sardinia</td>\n",
              "      <td>Etna</td>\n",
              "      <td>NaN</td>\n",
              "      <td>Kerin O’Keefe</td>\n",
              "      <td>@kerinokeefe</td>\n",
              "      <td>Nicosia 2013 Vulkà Bianco  (Etna)</td>\n",
              "      <td>White Blend</td>\n",
              "      <td>Nicosia</td>\n",
              "      <td>2</td>\n",
              "    </tr>\n",
              "    <tr>\n",
              "      <th>1</th>\n",
              "      <td>Portugal</td>\n",
              "      <td>This is ripe and fruity, a wine that is smooth...</td>\n",
              "      <td>Avidagos</td>\n",
              "      <td>87</td>\n",
              "      <td>15.0</td>\n",
              "      <td>Douro</td>\n",
              "      <td>NaN</td>\n",
              "      <td>NaN</td>\n",
              "      <td>Roger Voss</td>\n",
              "      <td>@vossroger</td>\n",
              "      <td>Quinta dos Avidagos 2011 Avidagos Red (Douro)</td>\n",
              "      <td>Portuguese Red</td>\n",
              "      <td>Quinta dos Avidagos</td>\n",
              "      <td>2</td>\n",
              "    </tr>\n",
              "    <tr>\n",
              "      <th>2</th>\n",
              "      <td>US</td>\n",
              "      <td>Tart and snappy, the flavors of lime flesh and...</td>\n",
              "      <td>NaN</td>\n",
              "      <td>87</td>\n",
              "      <td>14.0</td>\n",
              "      <td>Oregon</td>\n",
              "      <td>Willamette Valley</td>\n",
              "      <td>Willamette Valley</td>\n",
              "      <td>Paul Gregutt</td>\n",
              "      <td>@paulgwine</td>\n",
              "      <td>Rainstorm 2013 Pinot Gris (Willamette Valley)</td>\n",
              "      <td>Pinot Gris</td>\n",
              "      <td>Rainstorm</td>\n",
              "      <td>2</td>\n",
              "    </tr>\n",
              "    <tr>\n",
              "      <th>3</th>\n",
              "      <td>US</td>\n",
              "      <td>Pineapple rind, lemon pith and orange blossom ...</td>\n",
              "      <td>Reserve Late Harvest</td>\n",
              "      <td>87</td>\n",
              "      <td>13.0</td>\n",
              "      <td>Michigan</td>\n",
              "      <td>Lake Michigan Shore</td>\n",
              "      <td>NaN</td>\n",
              "      <td>Alexander Peartree</td>\n",
              "      <td>NaN</td>\n",
              "      <td>St. Julian 2013 Reserve Late Harvest Riesling ...</td>\n",
              "      <td>Riesling</td>\n",
              "      <td>St. Julian</td>\n",
              "      <td>2</td>\n",
              "    </tr>\n",
              "    <tr>\n",
              "      <th>4</th>\n",
              "      <td>US</td>\n",
              "      <td>Much like the regular bottling from 2012, this...</td>\n",
              "      <td>Vintner's Reserve Wild Child Block</td>\n",
              "      <td>87</td>\n",
              "      <td>65.0</td>\n",
              "      <td>Oregon</td>\n",
              "      <td>Willamette Valley</td>\n",
              "      <td>Willamette Valley</td>\n",
              "      <td>Paul Gregutt</td>\n",
              "      <td>@paulgwine</td>\n",
              "      <td>Sweet Cheeks 2012 Vintner's Reserve Wild Child...</td>\n",
              "      <td>Pinot Noir</td>\n",
              "      <td>Sweet Cheeks</td>\n",
              "      <td>2</td>\n",
              "    </tr>\n",
              "    <tr>\n",
              "      <th>...</th>\n",
              "      <td>...</td>\n",
              "      <td>...</td>\n",
              "      <td>...</td>\n",
              "      <td>...</td>\n",
              "      <td>...</td>\n",
              "      <td>...</td>\n",
              "      <td>...</td>\n",
              "      <td>...</td>\n",
              "      <td>...</td>\n",
              "      <td>...</td>\n",
              "      <td>...</td>\n",
              "      <td>...</td>\n",
              "      <td>...</td>\n",
              "      <td>...</td>\n",
              "    </tr>\n",
              "    <tr>\n",
              "      <th>65494</th>\n",
              "      <td>France</td>\n",
              "      <td>Made from young vines from the Vaulorent porti...</td>\n",
              "      <td>Fourchaume Premier Cru</td>\n",
              "      <td>90</td>\n",
              "      <td>45.0</td>\n",
              "      <td>Burgundy</td>\n",
              "      <td>Chablis</td>\n",
              "      <td>NaN</td>\n",
              "      <td>Roger Voss</td>\n",
              "      <td>@vossroger</td>\n",
              "      <td>William Fèvre 2005 Fourchaume Premier Cru  (Ch...</td>\n",
              "      <td>Chardonnay</td>\n",
              "      <td>William Fèvre</td>\n",
              "      <td>3</td>\n",
              "    </tr>\n",
              "    <tr>\n",
              "      <th>65495</th>\n",
              "      <td>Australia</td>\n",
              "      <td>This is a big, fat, almost sweet-tasting Caber...</td>\n",
              "      <td>NaN</td>\n",
              "      <td>90</td>\n",
              "      <td>22.0</td>\n",
              "      <td>South Australia</td>\n",
              "      <td>McLaren Vale</td>\n",
              "      <td>NaN</td>\n",
              "      <td>Joe Czerwinski</td>\n",
              "      <td>@JoeCz</td>\n",
              "      <td>Tapestry 2005 Cabernet Sauvignon (McLaren Vale)</td>\n",
              "      <td>Cabernet Sauvignon</td>\n",
              "      <td>Tapestry</td>\n",
              "      <td>3</td>\n",
              "    </tr>\n",
              "    <tr>\n",
              "      <th>65496</th>\n",
              "      <td>US</td>\n",
              "      <td>Much improved over the unripe 2005, Fritz's 20...</td>\n",
              "      <td>Estate</td>\n",
              "      <td>90</td>\n",
              "      <td>20.0</td>\n",
              "      <td>California</td>\n",
              "      <td>Dry Creek Valley</td>\n",
              "      <td>Sonoma</td>\n",
              "      <td>NaN</td>\n",
              "      <td>NaN</td>\n",
              "      <td>Fritz 2006 Estate Sauvignon Blanc (Dry Creek V...</td>\n",
              "      <td>Sauvignon Blanc</td>\n",
              "      <td>Fritz</td>\n",
              "      <td>3</td>\n",
              "    </tr>\n",
              "    <tr>\n",
              "      <th>65497</th>\n",
              "      <td>US</td>\n",
              "      <td>This wine wears its 15.8% alcohol better than ...</td>\n",
              "      <td>Block 24</td>\n",
              "      <td>90</td>\n",
              "      <td>31.0</td>\n",
              "      <td>California</td>\n",
              "      <td>Napa Valley</td>\n",
              "      <td>Napa</td>\n",
              "      <td>NaN</td>\n",
              "      <td>NaN</td>\n",
              "      <td>Hendry 2004 Block 24 Primitivo (Napa Valley)</td>\n",
              "      <td>Primitivo</td>\n",
              "      <td>Hendry</td>\n",
              "      <td>3</td>\n",
              "    </tr>\n",
              "    <tr>\n",
              "      <th>65498</th>\n",
              "      <td>Spain</td>\n",
              "      <td>A unique take on Manzanilla Sherry, which is o...</td>\n",
              "      <td>Manzanilla</td>\n",
              "      <td>90</td>\n",
              "      <td>10.0</td>\n",
              "      <td>Andalucia</td>\n",
              "      <td>Jerez</td>\n",
              "      <td>NaN</td>\n",
              "      <td>Michael Schachner</td>\n",
              "      <td>@wineschach</td>\n",
              "      <td>Bodegas Dios Baco S.L. NV Manzanilla Sherry (J...</td>\n",
              "      <td>Sherry</td>\n",
              "      <td>Bodegas Dios Baco S.L.</td>\n",
              "      <td>3</td>\n",
              "    </tr>\n",
              "  </tbody>\n",
              "</table>\n",
              "<p>65499 rows × 14 columns</p>\n",
              "</div>\n",
              "      <button class=\"colab-df-convert\" onclick=\"convertToInteractive('df-9f6d3e52-4509-48f5-a77a-b9b7576f00c4')\"\n",
              "              title=\"Convert this dataframe to an interactive table.\"\n",
              "              style=\"display:none;\">\n",
              "        \n",
              "  <svg xmlns=\"http://www.w3.org/2000/svg\" height=\"24px\"viewBox=\"0 0 24 24\"\n",
              "       width=\"24px\">\n",
              "    <path d=\"M0 0h24v24H0V0z\" fill=\"none\"/>\n",
              "    <path d=\"M18.56 5.44l.94 2.06.94-2.06 2.06-.94-2.06-.94-.94-2.06-.94 2.06-2.06.94zm-11 1L8.5 8.5l.94-2.06 2.06-.94-2.06-.94L8.5 2.5l-.94 2.06-2.06.94zm10 10l.94 2.06.94-2.06 2.06-.94-2.06-.94-.94-2.06-.94 2.06-2.06.94z\"/><path d=\"M17.41 7.96l-1.37-1.37c-.4-.4-.92-.59-1.43-.59-.52 0-1.04.2-1.43.59L10.3 9.45l-7.72 7.72c-.78.78-.78 2.05 0 2.83L4 21.41c.39.39.9.59 1.41.59.51 0 1.02-.2 1.41-.59l7.78-7.78 2.81-2.81c.8-.78.8-2.07 0-2.86zM5.41 20L4 18.59l7.72-7.72 1.47 1.35L5.41 20z\"/>\n",
              "  </svg>\n",
              "      </button>\n",
              "      \n",
              "  <style>\n",
              "    .colab-df-container {\n",
              "      display:flex;\n",
              "      flex-wrap:wrap;\n",
              "      gap: 12px;\n",
              "    }\n",
              "\n",
              "    .colab-df-convert {\n",
              "      background-color: #E8F0FE;\n",
              "      border: none;\n",
              "      border-radius: 50%;\n",
              "      cursor: pointer;\n",
              "      display: none;\n",
              "      fill: #1967D2;\n",
              "      height: 32px;\n",
              "      padding: 0 0 0 0;\n",
              "      width: 32px;\n",
              "    }\n",
              "\n",
              "    .colab-df-convert:hover {\n",
              "      background-color: #E2EBFA;\n",
              "      box-shadow: 0px 1px 2px rgba(60, 64, 67, 0.3), 0px 1px 3px 1px rgba(60, 64, 67, 0.15);\n",
              "      fill: #174EA6;\n",
              "    }\n",
              "\n",
              "    [theme=dark] .colab-df-convert {\n",
              "      background-color: #3B4455;\n",
              "      fill: #D2E3FC;\n",
              "    }\n",
              "\n",
              "    [theme=dark] .colab-df-convert:hover {\n",
              "      background-color: #434B5C;\n",
              "      box-shadow: 0px 1px 3px 1px rgba(0, 0, 0, 0.15);\n",
              "      filter: drop-shadow(0px 1px 2px rgba(0, 0, 0, 0.3));\n",
              "      fill: #FFFFFF;\n",
              "    }\n",
              "  </style>\n",
              "\n",
              "      <script>\n",
              "        const buttonEl =\n",
              "          document.querySelector('#df-9f6d3e52-4509-48f5-a77a-b9b7576f00c4 button.colab-df-convert');\n",
              "        buttonEl.style.display =\n",
              "          google.colab.kernel.accessAllowed ? 'block' : 'none';\n",
              "\n",
              "        async function convertToInteractive(key) {\n",
              "          const element = document.querySelector('#df-9f6d3e52-4509-48f5-a77a-b9b7576f00c4');\n",
              "          const dataTable =\n",
              "            await google.colab.kernel.invokeFunction('convertToInteractive',\n",
              "                                                     [key], {});\n",
              "          if (!dataTable) return;\n",
              "\n",
              "          const docLinkHtml = 'Like what you see? Visit the ' +\n",
              "            '<a target=\"_blank\" href=https://colab.research.google.com/notebooks/data_table.ipynb>data table notebook</a>'\n",
              "            + ' to learn more about interactive tables.';\n",
              "          element.innerHTML = '';\n",
              "          dataTable['output_type'] = 'display_data';\n",
              "          await google.colab.output.renderOutput(dataTable, element);\n",
              "          const docLink = document.createElement('div');\n",
              "          docLink.innerHTML = docLinkHtml;\n",
              "          element.appendChild(docLink);\n",
              "        }\n",
              "      </script>\n",
              "    </div>\n",
              "  </div>\n",
              "  "
            ],
            "text/plain": [
              "         country  ... star_ratings\n",
              "0          Italy  ...            2\n",
              "1       Portugal  ...            2\n",
              "2             US  ...            2\n",
              "3             US  ...            2\n",
              "4             US  ...            2\n",
              "...          ...  ...          ...\n",
              "65494     France  ...            3\n",
              "65495  Australia  ...            3\n",
              "65496         US  ...            3\n",
              "65497         US  ...            3\n",
              "65498      Spain  ...            3\n",
              "\n",
              "[65499 rows x 14 columns]"
            ]
          },
          "metadata": {},
          "execution_count": 68
        }
      ],
      "source": [
        "# Your code here . . .\n",
        "def stars(row):\n",
        "  if row.country == 'France':\n",
        "    return 3\n",
        "  elif row.points >= 90:\n",
        "    return 3\n",
        "  elif row.points >= 80:\n",
        "    return 2\n",
        "  else:\n",
        "    return 1\n",
        "\n",
        "star_ratings = wine.apply(lambda x:stars(x), axis=1)\n",
        "wine['star_ratings'] = star_ratings\n",
        "wine"
      ]
    },
    {
      "cell_type": "markdown",
      "metadata": {
        "id": "v9btZBA6M4cN"
      },
      "source": [
        "#### Question 8: ####\n",
        "Who are the most common wine reviewers in the dataset? Create a Series whose index is the taster_twitter_handle category from the dataset, and whose values count how many reviews each person wrote."
      ]
    },
    {
      "cell_type": "code",
      "source": [
        "# Your code here . . .\n",
        "wine.taster_twitter_handle.value_counts()"
      ],
      "metadata": {
        "id": "dqsUgtGBNiQZ",
        "outputId": "1769766c-e1b3-44f5-aa09-66d0449c5165",
        "colab": {
          "base_uri": "https://localhost:8080/"
        }
      },
      "execution_count": 44,
      "outputs": [
        {
          "output_type": "execute_result",
          "data": {
            "text/plain": [
              "taster_twitter_handle\n",
              "@AnneInVino          1769\n",
              "@JoeCz               2605\n",
              "@bkfiona               11\n",
              "@gordone_cellars     2032\n",
              "@kerinokeefe         5313\n",
              "@laurbuzz             938\n",
              "@mattkettmann        3035\n",
              "@paulgwine           4851\n",
              "@suskostrzewa         593\n",
              "@vboone              4696\n",
              "@vossroger          13045\n",
              "@wawinereport        2358\n",
              "@wineschach          7752\n",
              "@winewchristina         4\n",
              "@worldwineguys        465\n",
              "dtype: int64"
            ]
          },
          "metadata": {},
          "execution_count": 44
        }
      ]
    },
    {
      "cell_type": "markdown",
      "metadata": {
        "id": "rIO81pKrM4cN"
      },
      "source": [
        "#### Question 9: ####\n",
        "What combination of countries and varieties are most common? Create a Series whose index is a MultiIndexof {country, variety} pairs. For example, a pinot noir produced in the US should map to {\"US\", \"Pinot Noir\"}. Sort the values in the Series in descending order based on wine count."
      ]
    },
    {
      "cell_type": "code",
      "source": [
        "# Your code here . . .\n",
        "wine.groupby(['country', 'variety']).size().sort_values(ascending=False)"
      ],
      "metadata": {
        "id": "4Is2muZjNjxd",
        "outputId": "c8a4e7eb-0274-4624-89b7-8c64fe69ab44",
        "colab": {
          "base_uri": "https://localhost:8080/"
        }
      },
      "execution_count": 40,
      "outputs": [
        {
          "output_type": "execute_result",
          "data": {
            "text/plain": [
              "country  variety                 \n",
              "US       Pinot Noir                  4918\n",
              "         Cabernet Sauvignon          3649\n",
              "         Chardonnay                  3412\n",
              "France   Bordeaux-style Red Blend    2380\n",
              "Italy    Red Blend                   1870\n",
              "                                     ... \n",
              "         Torbato                        1\n",
              "         Vespaiolo                      1\n",
              "         Vespolina                      1\n",
              "         Vitovska                       1\n",
              "Uruguay  Tempranillo-Tannat             1\n",
              "Length: 1304, dtype: int64"
            ]
          },
          "metadata": {},
          "execution_count": 40
        }
      ]
    },
    {
      "cell_type": "markdown",
      "metadata": {
        "id": "C6sj-ABlM4cO"
      },
      "source": [
        "#### Question 10 #####\n",
        "Create a Series whose index is reviewers and whose values is the average score given out by that reviewer. Hint: you will need the `taster_name` and `points` columns."
      ]
    },
    {
      "cell_type": "code",
      "source": [
        "# Your code here . . .\n",
        "wine.groupby(['taster_name']).points.mean()"
      ],
      "metadata": {
        "id": "QFseCkVwNlAk",
        "outputId": "c3e3f3f8-0ac8-4e09-9de1-717cba1f0712",
        "colab": {
          "base_uri": "https://localhost:8080/"
        }
      },
      "execution_count": 136,
      "outputs": [
        {
          "output_type": "execute_result",
          "data": {
            "text/plain": [
              "taster_name\n",
              "Alexander Peartree    86.014286\n",
              "Anna Lee C. Iijima    88.380506\n",
              "Anne Krebiehl MW      90.587903\n",
              "Carrie Dykes          86.644444\n",
              "Christina Pickard     89.500000\n",
              "Fiona Adams           87.090909\n",
              "Jeff Jenssen          88.273504\n",
              "Jim Gordon            88.604331\n",
              "Joe Czerwinski        88.519770\n",
              "Kerin O’Keefe         88.827969\n",
              "Lauren Buzzeo         87.831557\n",
              "Matt Kettmann         90.021087\n",
              "Michael Schachner     86.904541\n",
              "Mike DeSimone         89.030303\n",
              "Paul Gregutt          89.095032\n",
              "Roger Voss            88.678957\n",
              "Sean P. Sullivan      88.666243\n",
              "Susan Kostrzewa       86.408094\n",
              "Virginie Boone        89.229557\n",
              "Name: points, dtype: float64"
            ]
          },
          "metadata": {},
          "execution_count": 136
        }
      ]
    }
  ],
  "metadata": {
    "kernelspec": {
      "display_name": "Python 3",
      "language": "python",
      "name": "python3"
    },
    "language_info": {
      "codemirror_mode": {
        "name": "ipython",
        "version": 3
      },
      "file_extension": ".py",
      "mimetype": "text/x-python",
      "name": "python",
      "nbconvert_exporter": "python",
      "pygments_lexer": "ipython3",
      "version": "3.7.6"
    },
    "colab": {
      "name": "CS185C_Sp22_ho4.ipynb",
      "provenance": [],
      "collapsed_sections": []
    }
  },
  "nbformat": 4,
  "nbformat_minor": 0
}